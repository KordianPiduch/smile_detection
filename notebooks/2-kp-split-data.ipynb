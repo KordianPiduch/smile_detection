{
 "cells": [
  {
   "cell_type": "code",
   "execution_count": 1,
   "metadata": {},
   "outputs": [],
   "source": [
    "import sys\n",
    "sys.path.append('../')\n",
    "\n",
    "from eda import Dataset\n",
    "import matplotlib.pyplot as plt\n",
    "\n",
    "dataset = Dataset(\n",
    "    list_attr_celeba_path=\"../data/list_attr_celeba.csv\",\n",
    "    list_bbox_celeba_path=\"../data/list_bbox_celeba.csv\",\n",
    "    list_eval_partition_path=\"../data/list_eval_partition.csv\",\n",
    "    list_landmarks_align_celeba_path=\"../data/list_landmarks_align_celeba.csv\",\n",
    "    images_path=\"../data/img_align_celeba/\"\n",
    ")\n",
    "\n",
    "df = dataset.df"
   ]
  },
  {
   "cell_type": "code",
   "execution_count": 18,
   "metadata": {},
   "outputs": [],
   "source": [
    "import numpy as np\n",
    "import cv2"
   ]
  },
  {
   "cell_type": "code",
   "execution_count": 16,
   "metadata": {},
   "outputs": [],
   "source": [
    "attr = ['Smiling']\n",
    "\n",
    "data = df.loc[df.partition == 0, attr]\n",
    "images = np.array(data.index)\n",
    "y = np.array(data[attr])"
   ]
  },
  {
   "cell_type": "code",
   "execution_count": 17,
   "metadata": {},
   "outputs": [
    {
     "data": {
      "text/plain": [
       "array(['000001.jpg', '000002.jpg', '000003.jpg', ..., '162768.jpg',\n",
       "       '162769.jpg', '162770.jpg'], dtype=object)"
      ]
     },
     "execution_count": 17,
     "metadata": {},
     "output_type": "execute_result"
    }
   ],
   "source": [
    "images"
   ]
  },
  {
   "cell_type": "code",
   "execution_count": 19,
   "metadata": {},
   "outputs": [],
   "source": [
    "from tensorflow.keras.preprocessing.image import img_to_array"
   ]
  },
  {
   "cell_type": "code",
   "execution_count": 24,
   "metadata": {},
   "outputs": [
    {
     "name": "stdout",
     "output_type": "stream",
     "text": [
      "<class 'numpy.ndarray'>\n",
      "<class 'numpy.ndarray'>\n",
      "<class 'numpy.ndarray'>\n",
      "<class 'numpy.ndarray'>\n",
      "<class 'numpy.ndarray'>\n",
      "<class 'numpy.ndarray'>\n",
      "<class 'numpy.ndarray'>\n",
      "<class 'numpy.ndarray'>\n",
      "<class 'numpy.ndarray'>\n",
      "<class 'numpy.ndarray'>\n"
     ]
    }
   ],
   "source": [
    "for image in images[:10]:\n",
    "    img = cv2.imread(\"../data/img_align_celeba/\" + image)\n",
    "    img = cv2.cvtColor(img, cv2.COLOR_BGR2GRAY)\n",
    "    print(type(img))"
   ]
  }
 ],
 "metadata": {
  "kernelspec": {
   "display_name": "Python 3.10.4 64-bit",
   "language": "python",
   "name": "python3"
  },
  "language_info": {
   "codemirror_mode": {
    "name": "ipython",
    "version": 3
   },
   "file_extension": ".py",
   "mimetype": "text/x-python",
   "name": "python",
   "nbconvert_exporter": "python",
   "pygments_lexer": "ipython3",
   "version": "3.10.4"
  },
  "orig_nbformat": 4,
  "vscode": {
   "interpreter": {
    "hash": "5caa5d8ced6edac71eff9613da5a4ed4a34e524077fcc2632ad0e4e8222a9934"
   }
  }
 },
 "nbformat": 4,
 "nbformat_minor": 2
}
