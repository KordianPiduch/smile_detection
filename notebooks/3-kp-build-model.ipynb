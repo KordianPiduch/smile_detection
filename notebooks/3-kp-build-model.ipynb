{
 "cells": [
  {
   "cell_type": "code",
   "execution_count": 1,
   "metadata": {},
   "outputs": [],
   "source": [
    "import sys\n",
    "sys.path.append('../')\n",
    "\n",
    "from prepare_data import PrepareData\n",
    "from image_data_generator import DataGenerator\n",
    "import numpy as np"
   ]
  },
  {
   "cell_type": "code",
   "execution_count": 2,
   "metadata": {},
   "outputs": [],
   "source": [
    "x_train, y_train = PrepareData.load_set('train', '../data/processed/')\n",
    "x_valid, y_valid = PrepareData.load_set('valid', '../data/processed/')"
   ]
  },
  {
   "cell_type": "code",
   "execution_count": 3,
   "metadata": {},
   "outputs": [],
   "source": [
    "# data preparation\n",
    "x_valid = x_valid / 255"
   ]
  },
  {
   "cell_type": "code",
   "execution_count": 4,
   "metadata": {},
   "outputs": [
    {
     "name": "stdout",
     "output_type": "stream",
     "text": [
      "(10000, 178, 178, 3)\n",
      "(10000,)\n",
      "(2000, 178, 178, 3)\n",
      "(2000,)\n"
     ]
    }
   ],
   "source": [
    "print(x_train.shape)\n",
    "print(y_train.shape)\n",
    "print(x_valid.shape)\n",
    "print(y_valid.shape)"
   ]
  },
  {
   "cell_type": "markdown",
   "metadata": {},
   "source": [
    "# Model"
   ]
  },
  {
   "cell_type": "code",
   "execution_count": 5,
   "metadata": {},
   "outputs": [],
   "source": [
    "from keras.models import Sequential\n",
    "from keras.applications import InceptionV3\n",
    "from keras import layers \n",
    "import keras"
   ]
  },
  {
   "cell_type": "code",
   "execution_count": 6,
   "metadata": {},
   "outputs": [],
   "source": [
    "base_model = InceptionV3(\n",
    "    include_top=False,\n",
    "    weights='imagenet',\n",
    "    input_shape=(178, 178, 3))"
   ]
  },
  {
   "cell_type": "code",
   "execution_count": 10,
   "metadata": {},
   "outputs": [],
   "source": [
    "model = Sequential()\n",
    "model.add(base_model)\n",
    "model.add(layers.GlobalAveragePooling2D())\n",
    "model.add(layers.Flatten())\n",
    "model.add(layers.Dense(128, activation='relu'))\n",
    "model.add(layers.Dense(1, activation='sigmoid'))\n",
    "\n",
    "for layer in base_model.layers:\n",
    "    # if isinstance(layer, layers.BatchNormalization):\n",
    "    #     layer.trainable = True\n",
    "    layer.trainable = False"
   ]
  },
  {
   "cell_type": "code",
   "execution_count": 11,
   "metadata": {},
   "outputs": [],
   "source": [
    "train_gen = DataGenerator(\n",
    "    images=x_train, \n",
    "    labels=y_train, \n",
    "    batch_size=64, \n",
    "    shuffle=False, \n",
    "    augment=False\n",
    ")\n",
    "\n",
    "early_stop = keras.callbacks.EarlyStopping(\n",
    "    monitor='val_loss',\n",
    "    mode='min',\n",
    "    verbose=True,\n",
    "    patience=2\n",
    ")"
   ]
  },
  {
   "cell_type": "code",
   "execution_count": 12,
   "metadata": {},
   "outputs": [
    {
     "name": "stdout",
     "output_type": "stream",
     "text": [
      "Epoch 1/10\n",
      "156/156 [==============================] - 203s 1s/step - loss: 0.5997 - accuracy: 0.7020 - val_loss: 0.4909 - val_accuracy: 0.7680\n",
      "Epoch 2/10\n",
      "156/156 [==============================] - 197s 1s/step - loss: 0.4724 - accuracy: 0.7715 - val_loss: 0.4835 - val_accuracy: 0.7645\n",
      "Epoch 3/10\n",
      "156/156 [==============================] - 194s 1s/step - loss: 0.4375 - accuracy: 0.7949 - val_loss: 0.4481 - val_accuracy: 0.7825\n",
      "Epoch 4/10\n",
      "156/156 [==============================] - 190s 1s/step - loss: 0.4251 - accuracy: 0.7986 - val_loss: 0.4595 - val_accuracy: 0.7895\n",
      "Epoch 5/10\n",
      "156/156 [==============================] - 191s 1s/step - loss: 0.4143 - accuracy: 0.8061 - val_loss: 0.4356 - val_accuracy: 0.8010\n",
      "Epoch 6/10\n",
      "156/156 [==============================] - 189s 1s/step - loss: 0.4045 - accuracy: 0.8141 - val_loss: 0.4413 - val_accuracy: 0.7915\n",
      "Epoch 7/10\n",
      "156/156 [==============================] - 182s 1s/step - loss: 0.3872 - accuracy: 0.8241 - val_loss: 0.4418 - val_accuracy: 0.7965\n",
      "Epoch 7: early stopping\n"
     ]
    }
   ],
   "source": [
    "model1 = model\n",
    "model1.compile(\n",
    "    optimizer='adam', \n",
    "    loss='binary_crossentropy', \n",
    "    metrics=['accuracy']\n",
    ")\n",
    "history1 = model1.fit(\n",
    "    train_gen, \n",
    "    epochs=10, \n",
    "    verbose=True,\n",
    "    shuffle=True, \n",
    "    validation_data=(x_valid, y_valid),\n",
    "    callbacks=[early_stop]\n",
    ")"
   ]
  },
  {
   "cell_type": "code",
   "execution_count": 13,
   "metadata": {},
   "outputs": [
    {
     "name": "stderr",
     "output_type": "stream",
     "text": [
      "WARNING:absl:Found untraced functions such as _jit_compiled_convolution_op, _jit_compiled_convolution_op, _jit_compiled_convolution_op, _jit_compiled_convolution_op, _jit_compiled_convolution_op while saving (showing 5 of 94). These functions will not be directly callable after loading.\n"
     ]
    },
    {
     "name": "stdout",
     "output_type": "stream",
     "text": [
      "INFO:tensorflow:Assets written to: ../saved_models/binary_model1\\assets\n"
     ]
    },
    {
     "name": "stderr",
     "output_type": "stream",
     "text": [
      "INFO:tensorflow:Assets written to: ../saved_models/binary_model1\\assets\n"
     ]
    }
   ],
   "source": [
    "model1.save('../saved_models/binary_model1')"
   ]
  },
  {
   "cell_type": "code",
   "execution_count": 27,
   "metadata": {},
   "outputs": [
    {
     "data": {
      "image/png": "[encoded data removed]",
      "text/plain": [
       "<Figure size 576x432 with 1 Axes>"
      ]
     },
     "metadata": {
      "needs_background": "light"
     },
     "output_type": "display_data"
    },
    {
     "data": {
      "image/png": "[encoded data removed]",
      "text/plain": [
       "<Figure size 576x432 with 1 Axes>"
      ]
     },
     "metadata": {
      "needs_background": "light"
     },
     "output_type": "display_data"
    }
   ],
   "source": [
    "from build_model import plot_history\n",
    "\n",
    "plot_history(history1)"
   ]
  },
  {
   "cell_type": "code",
   "execution_count": 14,
   "metadata": {},
   "outputs": [
    {
     "name": "stdout",
     "output_type": "stream",
     "text": [
      "Model: \"sequential_1\"\n",
      "_________________________________________________________________\n",
      " Layer (type)                Output Shape              Param #   \n",
      "=================================================================\n",
      " inception_v3 (Functional)   (None, 4, 4, 2048)        21802784  \n",
      "                                                                 \n",
      " global_average_pooling2d_1   (None, 2048)             0         \n",
      " (GlobalAveragePooling2D)                                        \n",
      "                                                                 \n",
      " flatten (Flatten)           (None, 2048)              0         \n",
      "                                                                 \n",
      " dense_1 (Dense)             (None, 128)               262272    \n",
      "                                                                 \n",
      " dense_2 (Dense)             (None, 1)                 129       \n",
      "                                                                 \n",
      "=================================================================\n",
      "Total params: 22,065,185\n",
      "Trainable params: 262,401\n",
      "Non-trainable params: 21,802,784\n",
      "_________________________________________________________________\n"
     ]
    }
   ],
   "source": [
    "model1.summary()"
   ]
  },
  {
   "cell_type": "markdown",
   "metadata": {},
   "source": [
    "## Model with data augmentation"
   ]
  },
  {
   "cell_type": "code",
   "execution_count": 15,
   "metadata": {},
   "outputs": [
    {
     "name": "stdout",
     "output_type": "stream",
     "text": [
      "Epoch 1/10\n",
      "156/156 [==============================] - 248s 2s/step - loss: 0.4405 - accuracy: 0.7884 - val_loss: 0.4415 - val_accuracy: 0.8020\n",
      "Epoch 2/10\n",
      "156/156 [==============================] - 202s 1s/step - loss: 0.4368 - accuracy: 0.7919 - val_loss: 0.4386 - val_accuracy: 0.7945\n",
      "Epoch 3/10\n",
      "156/156 [==============================] - 206s 1s/step - loss: 0.4260 - accuracy: 0.7996 - val_loss: 0.4764 - val_accuracy: 0.7755\n",
      "Epoch 4/10\n",
      "156/156 [==============================] - 179s 1s/step - loss: 0.4185 - accuracy: 0.8017 - val_loss: 0.4248 - val_accuracy: 0.8070\n",
      "Epoch 5/10\n",
      "156/156 [==============================] - 182s 1s/step - loss: 0.4169 - accuracy: 0.8029 - val_loss: 0.4385 - val_accuracy: 0.7985\n",
      "Epoch 6/10\n",
      "156/156 [==============================] - 201s 1s/step - loss: 0.4099 - accuracy: 0.8065 - val_loss: 0.4422 - val_accuracy: 0.8085\n",
      "Epoch 6: early stopping\n"
     ]
    }
   ],
   "source": [
    "train_gen = DataGenerator(\n",
    "    images=x_train, \n",
    "    labels=y_train, \n",
    "    batch_size=64, \n",
    "    shuffle=False, \n",
    "    augment=True\n",
    ")\n",
    "\n",
    "early_stop = keras.callbacks.EarlyStopping(\n",
    "    monitor='val_loss',\n",
    "    mode='min',\n",
    "    verbose=True,\n",
    "    patience=2\n",
    ")\n",
    "\n",
    "model2 = model\n",
    "model2.compile(\n",
    "    optimizer='adam', \n",
    "    loss='binary_crossentropy', \n",
    "    metrics=['accuracy']\n",
    ")\n",
    "history2 = model2.fit(\n",
    "    train_gen, \n",
    "    epochs=10, \n",
    "    verbose=True,\n",
    "    shuffle=True, \n",
    "    validation_data=(x_valid, y_valid),\n",
    "    callbacks=[early_stop]\n",
    ")"
   ]
  },
  {
   "cell_type": "code",
   "execution_count": 16,
   "metadata": {},
   "outputs": [
    {
     "name": "stderr",
     "output_type": "stream",
     "text": [
      "WARNING:absl:Found untraced functions such as _jit_compiled_convolution_op, _jit_compiled_convolution_op, _jit_compiled_convolution_op, _jit_compiled_convolution_op, _jit_compiled_convolution_op while saving (showing 5 of 94). These functions will not be directly callable after loading.\n"
     ]
    },
    {
     "name": "stdout",
     "output_type": "stream",
     "text": [
      "INFO:tensorflow:Assets written to: ../saved_models/binary_model2\\assets\n"
     ]
    },
    {
     "name": "stderr",
     "output_type": "stream",
     "text": [
      "INFO:tensorflow:Assets written to: ../saved_models/binary_model2\\assets\n"
     ]
    }
   ],
   "source": [
    "model2.save('../saved_models/binary_model2')"
   ]
  },
  {
   "cell_type": "code",
   "execution_count": 17,
   "metadata": {},
   "outputs": [
    {
     "name": "stdout",
     "output_type": "stream",
     "text": [
      "Model: \"sequential_1\"\n",
      "_________________________________________________________________\n",
      " Layer (type)                Output Shape              Param #   \n",
      "=================================================================\n",
      " inception_v3 (Functional)   (None, 4, 4, 2048)        21802784  \n",
      "                                                                 \n",
      " global_average_pooling2d_1   (None, 2048)             0         \n",
      " (GlobalAveragePooling2D)                                        \n",
      "                                                                 \n",
      " flatten (Flatten)           (None, 2048)              0         \n",
      "                                                                 \n",
      " dense_1 (Dense)             (None, 128)               262272    \n",
      "                                                                 \n",
      " dense_2 (Dense)             (None, 1)                 129       \n",
      "                                                                 \n",
      "=================================================================\n",
      "Total params: 22,065,185\n",
      "Trainable params: 262,401\n",
      "Non-trainable params: 21,802,784\n",
      "_________________________________________________________________\n"
     ]
    }
   ],
   "source": [
    "model2.summary()"
   ]
  },
  {
   "cell_type": "code",
   "execution_count": 22,
   "metadata": {},
   "outputs": [
    {
     "name": "stderr",
     "output_type": "stream",
     "text": [
      "WARNING:absl:Found untraced functions such as _jit_compiled_convolution_op, _jit_compiled_convolution_op, _jit_compiled_convolution_op, _jit_compiled_convolution_op, _jit_compiled_convolution_op while saving (showing 5 of 94). These functions will not be directly callable after loading.\n"
     ]
    },
    {
     "name": "stdout",
     "output_type": "stream",
     "text": [
      "INFO:tensorflow:Assets written to: ram://21ad001f-a186-4128-83b7-ef9b58c291d3/assets\n"
     ]
    },
    {
     "name": "stderr",
     "output_type": "stream",
     "text": [
      "INFO:tensorflow:Assets written to: ram://21ad001f-a186-4128-83b7-ef9b58c291d3/assets\n"
     ]
    }
   ],
   "source": [
    "import pickle\n",
    "\n",
    "with open('../saved_models/history/history_binary_model1.pkl', 'wb') as file:\n",
    "    pickle.dump(history1, file)"
   ]
  },
  {
   "cell_type": "code",
   "execution_count": 23,
   "metadata": {},
   "outputs": [
    {
     "name": "stderr",
     "output_type": "stream",
     "text": [
      "WARNING:absl:Found untraced functions such as _jit_compiled_convolution_op, _jit_compiled_convolution_op, _jit_compiled_convolution_op, _jit_compiled_convolution_op, _jit_compiled_convolution_op while saving (showing 5 of 94). These functions will not be directly callable after loading.\n"
     ]
    },
    {
     "name": "stdout",
     "output_type": "stream",
     "text": [
      "INFO:tensorflow:Assets written to: ram://3aaf318d-ca6a-432c-b865-013673a453e2/assets\n"
     ]
    },
    {
     "name": "stderr",
     "output_type": "stream",
     "text": [
      "INFO:tensorflow:Assets written to: ram://3aaf318d-ca6a-432c-b865-013673a453e2/assets\n"
     ]
    }
   ],
   "source": [
    "with open('../saved_models/history/history_binary_model2.pkl', 'wb') as file:\n",
    "    pickle.dump(history2, file)"
   ]
  },
  {
   "cell_type": "code",
   "execution_count": null,
   "metadata": {},
   "outputs": [],
   "source": []
  }
 ],
 "metadata": {
  "kernelspec": {
   "display_name": "Python 3.10.4 64-bit",
   "language": "python",
   "name": "python3"
  },
  "language_info": {
   "codemirror_mode": {
    "name": "ipython",
    "version": 3
   },
   "file_extension": ".py",
   "mimetype": "text/x-python",
   "name": "python",
   "nbconvert_exporter": "python",
   "pygments_lexer": "ipython3",
   "version": "3.10.4"
  },
  "orig_nbformat": 4,
  "vscode": {
   "interpreter": {
    "hash": "5caa5d8ced6edac71eff9613da5a4ed4a34e524077fcc2632ad0e4e8222a9934"
   }
  }
 },
 "nbformat": 4,
 "nbformat_minor": 2
}
