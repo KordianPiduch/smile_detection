{
 "cells": [
  {
   "cell_type": "code",
   "execution_count": 7,
   "metadata": {},
   "outputs": [],
   "source": [
    "import sys\n",
    "sys.path.append('../')\n",
    "\n",
    "from prepare_data import PrepareData\n",
    "\n",
    "\n",
    "x_tr, y_tr = PrepareData.load_set('train', '../data/processed/')\n",
    "x_val, y_val = PrepareData.load_set('valid', '../data/processed/')\n",
    "x_test, y_test = PrepareData.load_set('test', '../data/processed/')"
   ]
  },
  {
   "cell_type": "code",
   "execution_count": 8,
   "metadata": {},
   "outputs": [
    {
     "name": "stdout",
     "output_type": "stream",
     "text": [
      "(10000, 178, 178, 3)\n",
      "(10000,)\n",
      "(2000, 178, 178, 3)\n",
      "(2000,)\n",
      "(2000, 178, 178, 3)\n",
      "(2000,)\n"
     ]
    }
   ],
   "source": [
    "print(x_tr.shape)\n",
    "print(y_tr.shape)\n",
    "print(x_val.shape)\n",
    "print(y_val.shape)\n",
    "print(x_test.shape)\n",
    "print(y_test.shape)"
   ]
  },
  {
   "cell_type": "code",
   "execution_count": 9,
   "metadata": {},
   "outputs": [
    {
     "data": {
      "image/png": "[encoded data removed]",
      "text/plain": [
       "<Figure size 720x360 with 3 Axes>"
      ]
     },
     "metadata": {
      "needs_background": "light"
     },
     "output_type": "display_data"
    }
   ],
   "source": [
    "import matplotlib.pyplot as plt\n",
    "fig, (ax1, ax2, ax3) = plt.subplots(1, 3, figsize=(10,5), sharey=True)\n",
    "fig.suptitle(\"smiling faces in generated datasets\")\n",
    "ax1.hist(y_tr)\n",
    "ax2.hist(y_val)\n",
    "ax3.hist(y_test)\n",
    "\n",
    "ax1.set_title(\"train\")\n",
    "ax2.set_title(\"valid\")\n",
    "ax3.set_title(\"test\")\n",
    "plt.show()"
   ]
  },
  {
   "cell_type": "code",
   "execution_count": null,
   "metadata": {},
   "outputs": [],
   "source": []
  }
 ],
 "metadata": {
  "kernelspec": {
   "display_name": "Python 3.10.4 64-bit",
   "language": "python",
   "name": "python3"
  },
  "language_info": {
   "codemirror_mode": {
    "name": "ipython",
    "version": 3
   },
   "file_extension": ".py",
   "mimetype": "text/x-python",
   "name": "python",
   "nbconvert_exporter": "python",
   "pygments_lexer": "ipython3",
   "version": "3.10.4"
  },
  "orig_nbformat": 4,
  "vscode": {
   "interpreter": {
    "hash": "5caa5d8ced6edac71eff9613da5a4ed4a34e524077fcc2632ad0e4e8222a9934"
   }
  }
 },
 "nbformat": 4,
 "nbformat_minor": 2
}
