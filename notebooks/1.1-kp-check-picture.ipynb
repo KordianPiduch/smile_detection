{
 "cells": [
  {
   "cell_type": "code",
   "execution_count": 1,
   "metadata": {},
   "outputs": [],
   "source": [
    "import sys\n",
    "\n",
    "sys.path.append('../')\n",
    "\n",
    "from eda import Dataset\n",
    "import matplotlib.pyplot as plt\n",
    "\n",
    "dataset = Dataset(\n",
    "    list_attr_celeba_path=\"../data/list_attr_celeba.csv\",\n",
    "    list_bbox_celeba_path=\"../data/list_bbox_celeba.csv\",\n",
    "    list_eval_partition_path=\"../data/list_eval_partition.csv\",\n",
    "    list_landmarks_align_celeba_path=\"../data/list_landmarks_align_celeba.csv\",\n",
    "    images_path=\"../data/img_align_celeba/\"\n",
    ")\n",
    "\n",
    "df = dataset.df"
   ]
  },
  {
   "cell_type": "code",
   "execution_count": 8,
   "metadata": {},
   "outputs": [
    {
     "data": {
      "text/plain": [
       "image_id    000145.jpg\n",
       "Smiling              1\n",
       "x_1_x              756\n",
       "y_1_x              511\n",
       "width_x            998\n",
       "height_x          1382\n",
       "Name: 144, dtype: object"
      ]
     },
     "execution_count": 8,
     "metadata": {},
     "output_type": "execute_result"
    }
   ],
   "source": [
    "row = df.loc[144, ['image_id', 'Smiling', 'x_1_x', 'y_1_x','width_x', 'height_x']]\n",
    "row"
   ]
  },
  {
   "cell_type": "code",
   "execution_count": 3,
   "metadata": {},
   "outputs": [
    {
     "name": "stdout",
     "output_type": "stream",
     "text": [
      "(622, 257) (564, 781)\n"
     ]
    }
   ],
   "source": [
    "start_point = (row[2], row[3])\n",
    "end_point = row[4], row[5]\n",
    "color = (255,0,0)\n",
    "print(start_point, end_point)"
   ]
  },
  {
   "cell_type": "markdown",
   "metadata": {},
   "source": [
    "218, 178"
   ]
  },
  {
   "cell_type": "code",
   "execution_count": 10,
   "metadata": {},
   "outputs": [
    {
     "name": "stdout",
     "output_type": "stream",
     "text": [
      "(178, 178, 3)\n"
     ]
    }
   ],
   "source": [
    "import cv2\n",
    "\n",
    "img = cv2.imread(\"../data/img_align_celeba/\"+row[0])\n",
    "img = img[20:198, :]\n",
    "print(img.shape)\n",
    "img = cv2.rectangle(img, start_point, end_point, color, 2)\n",
    "cv2.imshow('image', img)\n",
    "cv2.waitKey(0)\n",
    "cv2.destroyAllWindows()"
   ]
  },
  {
   "cell_type": "code",
   "execution_count": 13,
   "metadata": {},
   "outputs": [],
   "source": [
    "# check top 9 pictures with crop to 178x178\n",
    "\n",
    "import numpy as np\n",
    "images = list(df.head(9)['image_id'])\n",
    "images = [cv2.imread(\"../data/img_align_celeba/\"+path) for path in images]\n",
    "images = [img[20:198, :] for img in images]\n",
    "horizontal_1 = np.concatenate((images[0], images[1], images[2]), axis=1)\n",
    "horizontal_2 = np.concatenate((images[3], images[4], images[5]), axis=1)\n",
    "horizontal_3 = np.concatenate((images[6], images[7], images[8]), axis=1)\n",
    "vertical = np.concatenate((horizontal_1, horizontal_2, horizontal_3), axis=0)\n",
    "cv2.imshow(\"Examples\", vertical)\n",
    "\n",
    "cv2.waitKey(0)\n",
    "cv2.destroyAllWindows()"
   ]
  },
  {
   "cell_type": "code",
   "execution_count": null,
   "metadata": {},
   "outputs": [],
   "source": []
  }
 ],
 "metadata": {
  "kernelspec": {
   "display_name": "Python 3.10.4 64-bit",
   "language": "python",
   "name": "python3"
  },
  "language_info": {
   "codemirror_mode": {
    "name": "ipython",
    "version": 3
   },
   "file_extension": ".py",
   "mimetype": "text/x-python",
   "name": "python",
   "nbconvert_exporter": "python",
   "pygments_lexer": "ipython3",
   "version": "3.10.4"
  },
  "orig_nbformat": 4,
  "vscode": {
   "interpreter": {
    "hash": "5caa5d8ced6edac71eff9613da5a4ed4a34e524077fcc2632ad0e4e8222a9934"
   }
  }
 },
 "nbformat": 4,
 "nbformat_minor": 2
}
